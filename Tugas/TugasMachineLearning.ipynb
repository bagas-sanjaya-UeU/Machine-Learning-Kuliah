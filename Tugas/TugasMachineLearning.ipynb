{
  "nbformat": 4,
  "nbformat_minor": 0,
  "metadata": {
    "colab": {
      "provenance": []
    },
    "kernelspec": {
      "name": "python3",
      "display_name": "Python 3"
    },
    "language_info": {
      "name": "python"
    }
  },
  "cells": [
    {
      "cell_type": "markdown",
      "source": [
        "# TUGAS"
      ],
      "metadata": {
        "id": "uBljKL1aTneO"
      }
    },
    {
      "cell_type": "markdown",
      "source": [
        "Nama: Charderra Eka Bagas Sanjaya\n",
        "\n",
        "NIM: 20210801088\n",
        "\n",
        "Prodi: Teknik Informatika"
      ],
      "metadata": {
        "id": "lmITfSi6TDl-"
      }
    },
    {
      "cell_type": "markdown",
      "source": [
        "# SOAL 1\n",
        "\n",
        "Buatlah identitas diri menggunakan pemograman python sederhana"
      ],
      "metadata": {
        "id": "PZjgJybwVgIJ"
      }
    },
    {
      "cell_type": "code",
      "execution_count": 1,
      "metadata": {
        "colab": {
          "base_uri": "https://localhost:8080/"
        },
        "id": "6Ae0-PnGRT5A",
        "outputId": "5c410c94-94cf-4d19-ee52-534fd39a5e67"
      },
      "outputs": [
        {
          "output_type": "stream",
          "name": "stdout",
          "text": [
            "DATA DIRI\n",
            "Nama :  Charderra Eka Bagas Sanjaya\n",
            "Nim :  20210801088\n",
            "Perkuliahan:  Machine Learning\n",
            "Jurusan :  Teknik Informatika\n"
          ]
        }
      ],
      "source": [
        "#jawaban soal 1\n",
        "nama = \"Charderra Eka Bagas Sanjaya\"\n",
        "nim = \"20210801088\"\n",
        "mata_kuliah = \"Machine Learning\"\n",
        "jurusan = \"Teknik Informatika\"\n",
        "\n",
        "print(\"DATA DIRI\")\n",
        "print(\"Nama : \", nama)\n",
        "print(\"Nim : \", nim)\n",
        "print(\"Mata Kuliah: \", mata_kuliah)\n",
        "print(\"Jurusan : \", jurusan )"
      ]
    },
    {
      "cell_type": "markdown",
      "source": [
        "# SOAL 2\n",
        "Buatlah matriksC dengan orde 2x3, dan nilai yang diberikan pada matriksC adalah sebagai berikut:\n",
        "\n",
        "Baris 1 Kolom 1, nilai = 1\n",
        "Baris 1 Kolom 2, nilai = 2\n",
        "Baris 1 Kolom 3, nilai = 3\n",
        "Baris 2 Kolom 1, nilai = 4\n",
        "Baris 2 Kolom 2, nilai = 5\n",
        "Baris 2 Kolom 3, nilai = 6"
      ],
      "metadata": {
        "id": "fzvl3QGZVmox"
      }
    },
    {
      "cell_type": "code",
      "source": [
        "#jawaban soal2\n",
        "matriksC= [[1,2,3],[4,5,6]]\n",
        "print(matriksC)"
      ],
      "metadata": {
        "colab": {
          "base_uri": "https://localhost:8080/"
        },
        "id": "tXhV10hqR_Fk",
        "outputId": "1bd320d3-0236-4ff1-baf9-37b26eefd48c"
      },
      "execution_count": 2,
      "outputs": [
        {
          "output_type": "stream",
          "name": "stdout",
          "text": [
            "[[1, 2, 3], [4, 5, 6]]\n"
          ]
        }
      ]
    },
    {
      "cell_type": "markdown",
      "source": [
        "# SOAL 3\n",
        "\n",
        "Buatlah matriks dengan orde 3x2, dengan nilai adalah:\n",
        "\n",
        "Baris 1 Kolom 1, nilai = 2\n",
        "Baris 1 Kolom 2, nilai = 2\n",
        "Baris 2 Kolom 1, nilai = 2\n",
        "Baris 2 Kolom 2, nilai = 2\n",
        "Baris 3 Kolom 1, nilai = 2\n",
        "Baris 3 Kolom 2, nilai = 2"
      ],
      "metadata": {
        "id": "EkM9EmT7V8eB"
      }
    },
    {
      "cell_type": "code",
      "source": [
        "#jawaban soal 3\n",
        "matriks = [[2,2],[2,2],[2,2]]\n",
        "print(matriks)"
      ],
      "metadata": {
        "colab": {
          "base_uri": "https://localhost:8080/"
        },
        "id": "WxlEbxz2SV4s",
        "outputId": "15033c2b-04dc-4349-da35-350e1be04241"
      },
      "execution_count": 4,
      "outputs": [
        {
          "output_type": "stream",
          "name": "stdout",
          "text": [
            "[[2, 2], [2, 2], [2, 2]]\n"
          ]
        }
      ]
    },
    {
      "cell_type": "markdown",
      "source": [
        "# SOAL 4\n",
        "\n",
        "Importlah library Numpy"
      ],
      "metadata": {
        "id": "ThkF4TyIWEBb"
      }
    },
    {
      "cell_type": "code",
      "source": [
        "import numpy as np"
      ],
      "metadata": {
        "id": "W6USN-OnSlCD"
      },
      "execution_count": 5,
      "outputs": []
    },
    {
      "cell_type": "markdown",
      "source": [
        "# SOAL 5\n",
        "\n",
        "Dengan memanfaatkan library numpy Buatlah matriks dengan menggunakan Library Numpy dengan panjang elemen adalah 32 dan matriks memiliki orde 4x8"
      ],
      "metadata": {
        "id": "It7dc0BQWIuf"
      }
    },
    {
      "cell_type": "code",
      "source": [
        "#jawaban 5\n",
        "from numpy import *\n",
        "matriks = range(32)\n",
        "matriks = reshape(matriks, (4,8))\n",
        "print(matriks)"
      ],
      "metadata": {
        "colab": {
          "base_uri": "https://localhost:8080/"
        },
        "id": "MRkHZgI-SqC2",
        "outputId": "079c51ba-415d-4cda-cb17-cbf2860c7526"
      },
      "execution_count": 6,
      "outputs": [
        {
          "output_type": "stream",
          "name": "stdout",
          "text": [
            "[[ 0  1  2  3  4  5  6  7]\n",
            " [ 8  9 10 11 12 13 14 15]\n",
            " [16 17 18 19 20 21 22 23]\n",
            " [24 25 26 27 28 29 30 31]]\n"
          ]
        }
      ]
    },
    {
      "cell_type": "markdown",
      "source": [
        "# SOAL 6\n",
        "\n",
        "Buatlah matriks dengan menggunakan Library Numpy dengan orde 3x30, dan nilai elemen dimulai dari indeks 1 sampai dengan 5 secara random."
      ],
      "metadata": {
        "id": "40337PqsWOSJ"
      }
    },
    {
      "cell_type": "code",
      "source": [
        "#jawaban 6\n",
        "import numpy as np\n",
        "from numpy import *\n",
        "\n",
        "matriks = np.random.randint(1,5,(3,30))\n",
        "print(matriks)"
      ],
      "metadata": {
        "colab": {
          "base_uri": "https://localhost:8080/"
        },
        "id": "1wDrQEirSwc9",
        "outputId": "1f07e31b-4904-4a0e-8d3a-f7edb1df42d8"
      },
      "execution_count": 7,
      "outputs": [
        {
          "output_type": "stream",
          "name": "stdout",
          "text": [
            "[[1 1 1 4 2 1 1 4 4 4 2 3 4 3 4 1 2 1 4 2 3 2 1 4 2 3 1 3 2 3]\n",
            " [4 1 1 1 4 1 2 2 1 3 2 3 1 2 3 1 2 1 3 4 3 3 1 3 3 4 3 4 2 1]\n",
            " [4 1 1 3 1 1 4 2 2 3 2 4 1 1 4 4 2 3 1 1 3 4 1 2 4 1 1 2 4 4]]\n"
          ]
        }
      ]
    }
  ]
}