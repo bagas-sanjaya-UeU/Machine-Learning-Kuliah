{
  "cells": [
    {
      "cell_type": "markdown",
      "source": [
        "Nama : Charderra Eka Bagas Sanjaya\n",
        "\n",
        "Nim : 20210801088\n",
        "\n",
        "No 1\n",
        "\n",
        "Dataset\n",
        "\n",
        "Hari,Datang,Biaya,Mahasiswa\n",
        "Senin,2,30000*2,Ani\n",
        "Selasa,3,35000*3,Budi\n",
        "Rabu,4,25000*4,Jono\n",
        "Kamis,1,15000*1,Lono\n",
        "Jumat,2,20000*2,Joni\n",
        "Sabtu,5,30000*5,Ani\n",
        "Minggu,2,35000*2,Budi\n",
        "\n",
        "a) Berapa rata-rata mahasiswa datang pada minggu ini?\n",
        "b) Kapan biaya tertinggi terjadi?\n",
        "c) Hari apa biaya lebih dari 110000?\n",
        "d) Siapa yang paling banyak datang ke kampus?\n",
        "e) Siapa yang datang pada hari minggu?\n",
        "f) Berapa biaya tertinggi dan terendah?\n",
        "g) Berapa frekuensi datang tertinggi dan terendah?"
      ],
      "metadata": {
        "id": "3a2GjK4Vbi1D"
      }
    },
    {
      "cell_type": "code",
      "source": [
        "import pandas as pd\n",
        "\n",
        "# Dataset\n",
        "data = {\n",
        "    'Hari': ['Senin', 'Selasa', 'Rabu', 'Kamis', 'Jumat', 'Sabtu', 'Minggu'],\n",
        "    'Datang': [2, 3, 4, 1, 2, 5, 2],\n",
        "    'Biaya': [30000*2, 35000*3, 25000*4, 15000*1, 20000*2, 30000*5, 35000*2],\n",
        "    'Mahasiswa': ['Ani', 'Budi', 'Jono', 'Lono', 'Joni', 'Ani', 'Budi']\n",
        "}\n",
        "\n",
        "# Buat DataFrame\n",
        "df = pd.DataFrame(data)\n",
        "\n",
        "# Hitung mean kolom `Datang`, bulatkan hasilnya menjadi 2 desimal\n",
        "rata_rata_datang = round(df['Datang'].mean(), 2)\n",
        "\n",
        "# Cari baris dimana `Biaya` maksimum terjadi, lalu ambil nilai pada kolom `Hari` dari baris tersebut\n",
        "hari_biaya_tertinggi = df.loc[df['Biaya'].idxmax(), 'Hari']\n",
        "\n",
        "# Filter DataFrame yang `Biaya` lebih besar dari 110000, lalu dapatkan nilai unik dari kolom `Hari`\n",
        "hari_biaya_lebih_110000 = df[df['Biaya'] > 110000]['Hari'].unique().tolist()\n",
        "\n",
        "# Hitung frekuensi setiap nilai unik di kolom `Mahasiswa` dan dapatkan nilai teratas\n",
        "mahasiswa_paling_banyak_datang = df['Mahasiswa'].value_counts().index[0]\n",
        "\n",
        "# Filter DataFrame dimana `Hari` sama dengan 'Minggu', lalu dapatkan nilai unik dari kolom `Mahasiswa`\n",
        "datang_hari_minggu = df[df['Hari'] == 'Minggu']['Mahasiswa'].unique().tolist()\n",
        "\n",
        "# Dapatkan nilai maksimum dan minimum kolom `Biaya`\n",
        "biaya_tertinggi = df['Biaya'].max()\n",
        "biaya_terendah = df['Biaya'].min()\n",
        "\n",
        "# Hitung frekuensi setiap nilai unik pada kolom `Datang`, lalu dapatkan nilai teratas dan terbawah\n",
        "frekuensi_datang_tertinggi = df['Datang'].value_counts().index[4]\n",
        "frekuensi_datang_terendah = df['Datang'].value_counts().index[3]\n",
        "\n",
        "# Cetak hasilnya\n",
        "print(\"Rata-rata mahasiswa datang pada minggu ini:\", rata_rata_datang)\n",
        "print(\"Hari dengan biaya tertinggi:\", hari_biaya_tertinggi)\n",
        "print(\"Hari dengan biaya lebih dari 110000:\", hari_biaya_lebih_110000)\n",
        "print(\"Mahasiswa yang paling banyak datang ke kampus:\", mahasiswa_paling_banyak_datang)\n",
        "print(\"Mahasiswa yang datang pada hari Minggu:\", datang_hari_minggu)\n",
        "print(\"Biaya tertinggi:\", biaya_tertinggi)\n",
        "print(\"Biaya terendah:\", biaya_terendah)\n",
        "print(\"Frekuensi datang tertinggi:\", frekuensi_datang_tertinggi)\n",
        "print(\"Frekuensi datang terendah:\", frekuensi_datang_terendah)"
      ],
      "outputs": [
        {
          "output_type": "stream",
          "name": "stdout",
          "text": [
            "Rata-rata mahasiswa datang pada minggu ini: 2.71\n",
            "Hari dengan biaya tertinggi: Sabtu\n",
            "Hari dengan biaya lebih dari 110000: ['Sabtu']\n",
            "Mahasiswa yang paling banyak datang ke kampus: Ani\n",
            "Mahasiswa yang datang pada hari Minggu: ['Budi']\n",
            "Biaya tertinggi: 150000\n",
            "Biaya terendah: 15000\n",
            "Frekuensi datang tertinggi: 5\n",
            "Frekuensi datang terendah: 1\n"
          ]
        }
      ],
      "execution_count": 10,
      "metadata": {
        "colab": {
          "base_uri": "https://localhost:8080/"
        },
        "id": "Soi97uILbi1N",
        "outputId": "9a656410-57bc-4d5e-daf6-67af12b5b171"
      }
    }
  ],
  "metadata": {
    "colab": {
      "provenance": []
    },
    "kernelspec": {
      "display_name": "Python 3",
      "name": "python3"
    }
  },
  "nbformat": 4,
  "nbformat_minor": 0
}